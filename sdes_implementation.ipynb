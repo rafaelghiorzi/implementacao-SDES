{
  "cells": [
    {
      "cell_type": "markdown",
      "metadata": {},
      "source": [
        "## Funções auxiliares\n",
        "Funções que são implementadas dento do S-DES repetidas vezes foram adicionadas aqui para organização e otimização do código\n",
        "- shift: implemente o deslocamente circular para esquerda\n",
        "- permutation: implementa as permutações baseadas nos padrões entregues como parâmetro\n",
        "- xor: função de xor bit a bit\n",
        "- sbox: lógica sbox, que implemente a busca dentro das matrizes"
      ]
    },
    {
      "cell_type": "code",
      "execution_count": 1,
      "metadata": {
        "id": "Ld5zdNhNRQSN"
      },
      "outputs": [],
      "source": [
        "def shift(bits: list, shifts: int) -> list: # performs a circular left shift\n",
        "  return bits[shifts:] + bits[:shifts]\n",
        "\n",
        "def permutation(bits: list, pattern: list) -> list: # simple pattern-guided permutation\n",
        "  result = []\n",
        "  for num in pattern:\n",
        "    result.append(bits[num - 1])\n",
        "  return result\n",
        "\n",
        "def xor(bits1: list, bits2: list) -> list: # bit-by-bit xor logic\n",
        "  return [bit1 ^ bit2 for bit1, bit2 in zip(bits1, bits2)]\n",
        "\n",
        "def sbox(bits: list, box) -> list: # sbox logic\n",
        "  row = (bits[0] << 1) + bits[3] # calculate row index using the first and last bits\n",
        "  col = (bits[1] << 1) + bits[2] # calculate column index using the middle two bits\n",
        "  value = box[row][col] # lookup the value in the sbox\n",
        "  return [int(b) for b in format(value, '02b')] # convert the value to a 2-bit binary list"
      ]
    },
    {
      "cell_type": "markdown",
      "metadata": {
        "id": "W2mxdhp_P4WX"
      },
      "source": [
        "## Função de geração das subchaves\n",
        "Essa função é responsável por realizar a primeira parte do S-DES, a geração das subchaves.\n",
        "Dada uma chave em formato de lista [0, 1, ..., 0, 1], ele retorna uma tupla contendo as duas subchaves."
      ]
    },
    {
      "cell_type": "code",
      "execution_count": 2,
      "metadata": {
        "id": "4Be3D1UfFIPV"
      },
      "outputs": [],
      "source": [
        "def key_gen(key: list) -> tuple:\n",
        "    P10 = [3, 5, 2, 7, 4, 10, 1, 9, 8, 6]\n",
        "    P8 = [6, 3, 7, 4, 8, 5, 10, 9]\n",
        "\n",
        "    # initial permutation\n",
        "    key = permutation(key, P10)\n",
        "    # creating left and right side\n",
        "    left, right = key[:5], key[5:]\n",
        "    # single circular left shift\n",
        "    left, right = shift(left, 1), shift(right, 1)\n",
        "    # first subkey K1\n",
        "    k1 = permutation(left+right, P8)\n",
        "    # double circular left shift\n",
        "    left, right = shift(left, 2), shift(right, 2)\n",
        "    # second subkey k2\n",
        "    k2 = permutation(left+right, P8)\n",
        "\n",
        "    return (k1, k2)"
      ]
    },
    {
      "cell_type": "markdown",
      "metadata": {},
      "source": [
        "## Funções principais de criptografia\n",
        "Implementação das 2 funções principais do S-DES:\n",
        "- F map, que consiste na critografia dos 4 últimos bits de uma mensagem e uma subchave, com os seguintes passos:\n",
        "  - Uma permutação de expansão dos bits\n",
        "  - Um xor entre a chave e os bits\n",
        "  - Seleção de dois conjuntos de dois bits a partir das Sboxes\n",
        "  - Permutação final para retorno dos bits criptografados\n",
        "\n",
        "- Fk, a rodada de Feistel, que consistem em:\n",
        "  - Dividir uma mensagem de 8 bits entre esquerda e direita\n",
        "  - Aplicar a função F no lado direito com a subchave da respectiva rodada\n",
        "  - retornar a mensagem como `xor(esquerda, direita depois da função F) + direita original`"
      ]
    },
    {
      "cell_type": "code",
      "execution_count": 3,
      "metadata": {},
      "outputs": [],
      "source": [
        "# F mapping function\n",
        "\n",
        "# Substitution boxes\n",
        "S0 = [[1, 0, 3, 2],\n",
        "      [3, 2, 1, 0],\n",
        "      [0, 2, 1, 3],\n",
        "      [3, 1, 3, 2]]\n",
        "\n",
        "S1 = [[0, 1, 2, 3],\n",
        "      [2, 0, 1, 3],\n",
        "      [3, 0, 1, 0],\n",
        "      [2, 1, 0, 3]]\n",
        "\n",
        "def F_map(key: list, bits: list) -> list:\n",
        "    EXPAND = [4, 1, 2, 3, 2, 3, 4, 1]\n",
        "    P4 = [2, 4, 3, 1] \n",
        "\n",
        "    # expanding the bits\n",
        "    bits = permutation(bits, EXPAND)\n",
        "    bits = xor(key, bits)\n",
        "\n",
        "    # selecting and joining sbox bits\n",
        "    sbox1 = sbox(bits[:4], S0)\n",
        "    sbox2 = sbox(bits[4:], S1)\n",
        "\n",
        "    # return the permutation of the sboxes\n",
        "    bits = permutation(sbox1 + sbox2, P4)\n",
        "\n",
        "    return bits"
      ]
    },
    {
      "cell_type": "code",
      "execution_count": 4,
      "metadata": {},
      "outputs": [],
      "source": [
        "# Feistel encryption function\n",
        "\n",
        "def Fk(bits: list, key: list) -> list:\n",
        "    left, right = bits[:4], bits[4:]  # split the bits in half\n",
        "    right_F = F_map(key, right)  # F map function\n",
        "    bits = xor(left, right_F) + right\n",
        "\n",
        "    return bits  # return the bits with the F map and Fk functions applied"
      ]
    },
    {
      "cell_type": "markdown",
      "metadata": {},
      "source": [
        "## Implementação principal do S-DES"
      ]
    },
    {
      "cell_type": "code",
      "execution_count": 5,
      "metadata": {},
      "outputs": [],
      "source": [
        "def sdes(bits: list, key: list) -> str:\n",
        "    IP = [2, 6, 3, 1, 4, 8, 5, 7] # initial permutation\n",
        "    IP_1 = [4, 1, 3, 5, 7, 2, 8, 6] # inverse initial permutation\n",
        "\n",
        "    # generating the subkeys\n",
        "    k1, k2 = key_gen(key)\n",
        "    # initial permutation\n",
        "    bits = permutation(bits, IP)\n",
        "    # first Feistel round\n",
        "    bits = Fk(bits, k1)\n",
        "    # Swap left and right halves\n",
        "    bits = bits[4:] + bits[:4]\n",
        "    # second Feistel round\n",
        "    bits = Fk(bits, k2)\n",
        "    # final permutation\n",
        "    bits = permutation(bits, IP_1)\n",
        "\n",
        "    # final result\n",
        "    return bits"
      ]
    },
    {
      "cell_type": "markdown",
      "metadata": {},
      "source": [
        "## Decifragem do SDES"
      ]
    },
    {
      "cell_type": "code",
      "execution_count": 6,
      "metadata": {},
      "outputs": [],
      "source": [
        "def decode_sdes(bits: list, key: list) -> str:\n",
        "    IP = [2, 6, 3, 1, 4, 8, 5, 7] # initial permutation\n",
        "    IP_1 = [4, 1, 3, 5, 7, 2, 8, 6] # inverse initial permutation\n",
        "    \n",
        "    k1, k2 = key_gen(key)\n",
        "\n",
        "    # initial permutation\n",
        "    bits = permutation(bits, IP)\n",
        "    # feistel round with k2\n",
        "    bits = Fk(bits, k2)\n",
        "    # Swap left and right halves\n",
        "    bits = bits[4:] + bits[:4]\n",
        "    # feistel round with k1\n",
        "    bits = Fk(bits, k1)\n",
        "    # final permutation\n",
        "    bits = permutation(bits, IP_1)\n",
        "\n",
        "    # final result\n",
        "    return bits"
      ]
    },
    {
      "cell_type": "markdown",
      "metadata": {},
      "source": [
        "## Implementação do S-DES simples, com ECB e CBC"
      ]
    },
    {
      "cell_type": "code",
      "execution_count": 7,
      "metadata": {},
      "outputs": [],
      "source": [
        "key = [1, 0, 1, 0, 0, 0, 0, 0, 1, 0] # 10 bits key\n",
        "bits = [1, 1, 0, 1, 0, 1, 1, 1] # 8 bits 'plaintext' block\n",
        "bits_message = [1, 1, 0, 1, 0, 1, 1, 1, 0, 1, 1, 0, 1, 1, 0, 0, 1, 0, 1, 1, 1, 0, 1, 0, 1, 1, 1, 1, 0, 0, 0, 0] # 32 bits 'plaintext' message\n",
        "vector = [0, 1, 0, 1, 0, 1, 0, 1] # 8 bits initialization vector"
      ]
    },
    {
      "cell_type": "markdown",
      "metadata": {},
      "source": [
        "### Implementação simples\n",
        "Apenas com uma mensagem de 8 bits"
      ]
    },
    {
      "cell_type": "code",
      "execution_count": 8,
      "metadata": {},
      "outputs": [
        {
          "name": "stdout",
          "output_type": "stream",
          "text": [
            "[1, 0, 1, 0, 1, 0, 0, 0]\n"
          ]
        }
      ],
      "source": [
        "cipher = sdes(bits, key)\n",
        "print(cipher)"
      ]
    },
    {
      "cell_type": "code",
      "execution_count": 9,
      "metadata": {},
      "outputs": [
        {
          "name": "stdout",
          "output_type": "stream",
          "text": [
            "[1, 1, 0, 1, 0, 1, 1, 1]\n"
          ]
        }
      ],
      "source": [
        "decipher = decode_sdes(cipher, key)\n",
        "print(decipher)"
      ]
    },
    {
      "cell_type": "markdown",
      "metadata": {},
      "source": [
        "### Implementação com Eletronic Codebook\n",
        "Aqui, a mensagem é separada em blocos de 8 bits, com padding se necessário. Cada bloco é cifrado independentemente.\n",
        "Essa forma de implementação não é considerada segura por manter os padrões de repetição caso alguns blocos sejam semelhantes, o que favorece a interpretação e quebra da cifra."
      ]
    },
    {
      "cell_type": "code",
      "execution_count": 10,
      "metadata": {},
      "outputs": [
        {
          "name": "stdout",
          "output_type": "stream",
          "text": [
            "[1, 0, 1, 0, 1, 0, 0, 0, 0, 0, 0, 0, 1, 1, 0, 1, 0, 0, 1, 0, 1, 1, 1, 0, 0, 1, 1, 0, 1, 1, 0, 1]\n"
          ]
        }
      ],
      "source": [
        "# divide the bits in blocks of eight bits\n",
        "blocks = [bits_message[i:i+8] for i in range(0, len(bits_message), 8)]\n",
        "cipher = []\n",
        "\n",
        "# encrypt each block using the sdes function\n",
        "for block in blocks:\n",
        "    cipher.append(sdes(block, key))\n",
        "\n",
        "# flatten the list of cipher blocks to display\n",
        "flat = [bit for block in cipher for bit in block]\n",
        "print(flat)\n"
      ]
    },
    {
      "cell_type": "markdown",
      "metadata": {},
      "source": [
        "### Implementação com Cipher Block Chaining\n",
        "A forma mais segura das 3 de implementação. Aqui, é utilizado um vetor de inicialização para o primeiro bloco, do tamanho da bloco, 8 bits.\n",
        "O primeiro bloco, antes de ser cifrado, passa por um xor bit a bit com o vetor de inicialização. A partir daí, o próximo bloco, antes de ser cifrado, passa por um xor com a cifra do primeiro bloco, e daí por diante.\n",
        "Esse método garante a perda das repetições e é muito mais seguro do que as implementações simples vistas."
      ]
    },
    {
      "cell_type": "code",
      "execution_count": 11,
      "metadata": {},
      "outputs": [
        {
          "name": "stdout",
          "output_type": "stream",
          "text": [
            "[0, 0, 0, 0, 1, 0, 1, 1, 1, 0, 1, 0, 1, 0, 0, 1, 1, 0, 0, 1, 1, 0, 1, 1, 0, 1, 1, 0, 1, 0, 1, 0]\n"
          ]
        }
      ],
      "source": [
        "# divide the bits in blocks of eight bits\n",
        "blocks = [bits_message[i:i+8] for i in range(0, len(bits_message), 8)]\n",
        "cipher = []\n",
        "\n",
        "for i in range(len(blocks)):\n",
        "    if i == 0:\n",
        "        last = sdes(xor(blocks[i], vector), key)\n",
        "    else:\n",
        "        last = sdes(xor(blocks[i], last), key)\n",
        "    cipher.append(last)\n",
        "\n",
        "# flatten the list of cipher blocks to display\n",
        "flat = [bit for block in cipher for bit in block]\n",
        "print(flat)"
      ]
    }
  ],
  "metadata": {
    "colab": {
      "provenance": [],
      "toc_visible": true
    },
    "kernelspec": {
      "display_name": "base",
      "language": "python",
      "name": "python3"
    },
    "language_info": {
      "codemirror_mode": {
        "name": "ipython",
        "version": 3
      },
      "file_extension": ".py",
      "mimetype": "text/x-python",
      "name": "python",
      "nbconvert_exporter": "python",
      "pygments_lexer": "ipython3",
      "version": "3.12.3"
    }
  },
  "nbformat": 4,
  "nbformat_minor": 0
}
